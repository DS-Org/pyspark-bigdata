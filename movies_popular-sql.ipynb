{
 "cells": [
  {
   "cell_type": "markdown",
   "metadata": {},
   "source": [
    "### Most popular movie\n",
    "\n",
    "| USER ID | MOVIE_ID | RATINGS | TIMESTAMP |\n",
    "|---|---|---|---|\n",
    "|196|\t242|\t3|\t881250949|\n",
    "\n"
   ]
  },
  {
   "cell_type": "code",
   "execution_count": 9,
   "metadata": {},
   "outputs": [],
   "source": [
    "#from pyspark import SparkConf, SparkContext - no longer needed, instead we need sparksession\n",
    "# sparkSession is a single entry point for all API's RDD, dataframes, datasets, hive, streaming etc.,\n",
    "\n",
    "from pyspark.sql import Row, SparkSession\n"
   ]
  },
  {
   "cell_type": "code",
   "execution_count": 10,
   "metadata": {},
   "outputs": [
    {
     "data": {
      "text/html": [
       "\n",
       "            <div>\n",
       "                <p><b>SparkSession - hive</b></p>\n",
       "                \n",
       "        <div>\n",
       "            <p><b>SparkContext</b></p>\n",
       "\n",
       "            <p><a href=\"http://192.168.0.100:4045\">Spark UI</a></p>\n",
       "\n",
       "            <dl>\n",
       "              <dt>Version</dt>\n",
       "                <dd><code>v2.3.0</code></dd>\n",
       "              <dt>Master</dt>\n",
       "                <dd><code>local[*]</code></dd>\n",
       "              <dt>AppName</dt>\n",
       "                <dd><code>PySparkShell</code></dd>\n",
       "            </dl>\n",
       "        </div>\n",
       "        \n",
       "            </div>\n",
       "        "
      ],
      "text/plain": [
       "<pyspark.sql.session.SparkSession at 0x11262a198>"
      ]
     },
     "execution_count": 10,
     "metadata": {},
     "output_type": "execute_result"
    }
   ],
   "source": [
    "#conf = SparkConf().setMaster('local').setAppName('popular movie')\n",
    "spark = SparkSession.builder.enableHiveSupport().appName('popular movie').getOrCreate()\n",
    "spark"
   ]
  },
  {
   "cell_type": "code",
   "execution_count": 5,
   "metadata": {},
   "outputs": [],
   "source": [
    "# use it when run as script\n",
    "#sc = SparkContext(conf=conf)\n",
    "\n",
    "#sc = SparkContext.getOrCreate()\n",
    "#sc.appName=\"popular movie\"\n",
    "#sc"
   ]
  },
  {
   "cell_type": "code",
   "execution_count": 22,
   "metadata": {},
   "outputs": [],
   "source": [
    "#load data\n",
    "#data = sc.textFile('./datasets/ml-100k/u.data')\n",
    "data = spark.sparkContext.textFile('./datasets/ml-100k/u.data')"
   ]
  },
  {
   "cell_type": "markdown",
   "metadata": {},
   "source": [
    "We need to count the movies by grouping the movie Ids\n",
    "\n",
    "creating an RDD with movie_id row"
   ]
  },
  {
   "cell_type": "code",
   "execution_count": 25,
   "metadata": {},
   "outputs": [],
   "source": [
    "movies = data.map(lambda x : (Row(movie_id=int(x.split()[1]))))"
   ]
  },
  {
   "cell_type": "markdown",
   "metadata": {},
   "source": [
    "Convert RDD to DF"
   ]
  },
  {
   "cell_type": "code",
   "execution_count": 24,
   "metadata": {},
   "outputs": [],
   "source": [
    "movies_df = spark.createDataFrame(movies);"
   ]
  },
  {
   "cell_type": "markdown",
   "metadata": {},
   "source": [
    "Using spark sql functions to find the popular movie id"
   ]
  },
  {
   "cell_type": "code",
   "execution_count": 54,
   "metadata": {},
   "outputs": [
    {
     "name": "stdout",
     "output_type": "stream",
     "text": [
      "+--------+-----+\n",
      "|movie_id|count|\n",
      "+--------+-----+\n",
      "|      50|  583|\n",
      "|     258|  509|\n",
      "|     100|  508|\n",
      "|     181|  507|\n",
      "|     294|  485|\n",
      "|     286|  481|\n",
      "|     288|  478|\n",
      "|       1|  452|\n",
      "|     300|  431|\n",
      "|     121|  429|\n",
      "|     174|  420|\n",
      "|     127|  413|\n",
      "|      56|  394|\n",
      "|       7|  392|\n",
      "|      98|  390|\n",
      "|     237|  384|\n",
      "|     117|  378|\n",
      "|     172|  367|\n",
      "|     222|  365|\n",
      "|     313|  350|\n",
      "+--------+-----+\n",
      "only showing top 20 rows\n",
      "\n"
     ]
    }
   ],
   "source": [
    "#popular_movies = movies.sortBy(lambda x : x[1],ascending=False)\n",
    "popular_movies=movies_df.groupby('movie_id').count().orderBy('count', ascending=False).cache()\n",
    "popular_movies.show()"
   ]
  },
  {
   "cell_type": "markdown",
   "metadata": {},
   "source": [
    "print name of movie rather than id"
   ]
  },
  {
   "cell_type": "code",
   "execution_count": null,
   "metadata": {},
   "outputs": [],
   "source": [
    "# crearing a df directly rather than converting rdd to DF\n",
    "#movie_data = sc.textFile(\"./datasets/ml-100k/u.item\")\n",
    "movies_names = spark.read.csv('./datasets/ml-100k/u.item',sep=\"|\", schema=\"movie_id int, movie_name String\",encoding=\"ascii\");"
   ]
  },
  {
   "cell_type": "code",
   "execution_count": 58,
   "metadata": {},
   "outputs": [
    {
     "name": "stdout",
     "output_type": "stream",
     "text": [
      "+-----+--------------------+\n",
      "|count|          movie_name|\n",
      "+-----+--------------------+\n",
      "|  583|    Star Wars (1977)|\n",
      "|  509|      Contact (1997)|\n",
      "|  508|        Fargo (1996)|\n",
      "|  507|Return of the Jed...|\n",
      "|  485|    Liar Liar (1997)|\n",
      "|  481|English Patient, ...|\n",
      "|  478|       Scream (1996)|\n",
      "|  452|    Toy Story (1995)|\n",
      "|  431|Air Force One (1997)|\n",
      "|  429|Independence Day ...|\n",
      "|  420|Raiders of the Lo...|\n",
      "|  413|Godfather, The (1...|\n",
      "|  394| Pulp Fiction (1994)|\n",
      "|  392|Twelve Monkeys (1...|\n",
      "|  390|Silence of the La...|\n",
      "|  384|Jerry Maguire (1996)|\n",
      "|  378|    Rock, The (1996)|\n",
      "|  367|Empire Strikes Ba...|\n",
      "|  365|Star Trek: First ...|\n",
      "|  350|Back to the Futur...|\n",
      "+-----+--------------------+\n",
      "only showing top 20 rows\n",
      "\n"
     ]
    }
   ],
   "source": [
    "#lets join both the datasets\n",
    "# since i have cached popular_movies it will no longer read again\n",
    "popular_movies_names = popular_movies.join(movies_names, on=\"movie_id\").cache()\n",
    "popular_movies_names.sort(\"count\",ascending=False).drop('movie_id').show()"
   ]
  },
  {
   "cell_type": "markdown",
   "metadata": {},
   "source": [
    "-------------------------"
   ]
  },
  {
   "cell_type": "markdown",
   "metadata": {},
   "source": [
    "### now lets try to do the same in spark sql syntax"
   ]
  },
  {
   "cell_type": "code",
   "execution_count": 59,
   "metadata": {},
   "outputs": [],
   "source": [
    "from pyspark.sql import SparkSession, Row"
   ]
  },
  {
   "cell_type": "code",
   "execution_count": 99,
   "metadata": {},
   "outputs": [],
   "source": [
    "spark = SparkSession.builder.appName(\"popular_movies\").getOrCreate()"
   ]
  },
  {
   "cell_type": "code",
   "execution_count": 112,
   "metadata": {},
   "outputs": [],
   "source": [
    "# read as datasets directly\n",
    "# due to improper sep we cant directly read it as csv we need to read as textFile \n",
    "# and make modifications in RDD and convert into DF\n",
    "movies_data = spark.sparkContext.textFile('./datasets/ml-100k/u.data')\n",
    "movies_ratings = movies_data.map(lambda movie : Row(movie_id=int(movie.split()[1])))\n",
    "# converting to DF \n",
    "movies_ratings_df = spark.createDataFrame(movies_ratings)\n",
    "# we need movies id alone\n",
    "movies_names = spark.read.csv('./datasets/ml-100k/u.item',sep=\"|\", encoding='utf-8',schema=\"movie_id INT, movie_name String\")\n",
    "#movies_names.show()"
   ]
  },
  {
   "cell_type": "markdown",
   "metadata": {},
   "source": [
    "Create temp tables for sql to execute upon"
   ]
  },
  {
   "cell_type": "code",
   "execution_count": 113,
   "metadata": {},
   "outputs": [],
   "source": [
    "movies_ratings_df.createOrReplaceTempView('movies_ratings')\n",
    "movies_names.createOrReplaceTempView('movies_names')"
   ]
  },
  {
   "cell_type": "code",
   "execution_count": 119,
   "metadata": {},
   "outputs": [
    {
     "name": "stdout",
     "output_type": "stream",
     "text": [
      "+-----------+--------------------+\n",
      "|movie_count|          movie_name|\n",
      "+-----------+--------------------+\n",
      "|        583|    Star Wars (1977)|\n",
      "|        509|      Contact (1997)|\n",
      "|        508|        Fargo (1996)|\n",
      "|        507|Return of the Jed...|\n",
      "|        485|    Liar Liar (1997)|\n",
      "|        481|English Patient, ...|\n",
      "|        478|       Scream (1996)|\n",
      "|        452|    Toy Story (1995)|\n",
      "|        431|Air Force One (1997)|\n",
      "|        429|Independence Day ...|\n",
      "|        420|Raiders of the Lo...|\n",
      "|        413|Godfather, The (1...|\n",
      "|        394| Pulp Fiction (1994)|\n",
      "|        392|Twelve Monkeys (1...|\n",
      "|        390|Silence of the La...|\n",
      "|        384|Jerry Maguire (1996)|\n",
      "|        378|    Rock, The (1996)|\n",
      "|        367|Empire Strikes Ba...|\n",
      "|        365|Star Trek: First ...|\n",
      "|        350|      Titanic (1997)|\n",
      "+-----------+--------------------+\n",
      "only showing top 20 rows\n",
      "\n"
     ]
    }
   ],
   "source": [
    "# added as sub query just to remove movie_id from display\n",
    "popular_movies = spark.sql(\"\"\"\n",
    "select\n",
    "   movie_count,\n",
    "   movie_name \n",
    "from\n",
    "   (\n",
    "      select\n",
    "         t1.movie_id,\n",
    "         count(t1.movie_id) as movie_count,\n",
    "         t2.movie_name \n",
    "      from\n",
    "         movies_ratings as t1 \n",
    "         join\n",
    "            movies_names as t2 \n",
    "            on t2.movie_id = t1.movie_id \n",
    "      group by\n",
    "         t1.movie_id,\n",
    "         t2.movie_name \n",
    "      order by\n",
    "         movie_count desc\n",
    "   ) \n",
    "\"\"\").cache()\n",
    "\n",
    "popular_movies.show()\n",
    "\n"
   ]
  },
  {
   "cell_type": "code",
   "execution_count": null,
   "metadata": {},
   "outputs": [],
   "source": []
  }
 ],
 "metadata": {
  "kernelspec": {
   "display_name": "Python 3",
   "language": "python",
   "name": "python3"
  },
  "language_info": {
   "codemirror_mode": {
    "name": "ipython",
    "version": 3
   },
   "file_extension": ".py",
   "mimetype": "text/x-python",
   "name": "python",
   "nbconvert_exporter": "python",
   "pygments_lexer": "ipython3",
   "version": "3.6.4"
  }
 },
 "nbformat": 4,
 "nbformat_minor": 2
}
