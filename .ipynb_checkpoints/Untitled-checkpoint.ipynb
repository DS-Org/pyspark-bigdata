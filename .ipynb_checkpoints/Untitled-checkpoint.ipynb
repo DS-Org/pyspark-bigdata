{
 "cells": [
  {
   "cell_type": "markdown",
   "metadata": {},
   "source": [
    "![alt text](./images/movie-recommendations.png)"
   ]
  },
  {
   "cell_type": "code",
   "execution_count": 1,
   "metadata": {},
   "outputs": [],
   "source": [
    "from pyspark import SparkConf, SparkContext"
   ]
  },
  {
   "cell_type": "code",
   "execution_count": 2,
   "metadata": {},
   "outputs": [],
   "source": [
    "conf = SparkConf().setMaster('local[*]').setAppName(\"MOVIE RECOMMENDATIONS\")"
   ]
  },
  {
   "cell_type": "code",
   "execution_count": 3,
   "metadata": {},
   "outputs": [
    {
     "data": {
      "text/html": [
       "\n",
       "        <div>\n",
       "            <p><b>SparkContext</b></p>\n",
       "\n",
       "            <p><a href=\"http://192.168.0.103:4040\">Spark UI</a></p>\n",
       "\n",
       "            <dl>\n",
       "              <dt>Version</dt>\n",
       "                <dd><code>v2.3.0</code></dd>\n",
       "              <dt>Master</dt>\n",
       "                <dd><code>local[*]</code></dd>\n",
       "              <dt>AppName</dt>\n",
       "                <dd><code>MOVIE RECOMMENDATIONS</code></dd>\n",
       "            </dl>\n",
       "        </div>\n",
       "        "
      ],
      "text/plain": [
       "<SparkContext master=local[*] appName=MOVIE RECOMMENDATIONS>"
      ]
     },
     "execution_count": 3,
     "metadata": {},
     "output_type": "execute_result"
    }
   ],
   "source": [
    "sc= SparkContext.getOrCreate()\n",
    "sc.appName=\"MOVIE RECOMMENDATIONS\"\n",
    "sc"
   ]
  },
  {
   "cell_type": "code",
   "execution_count": 4,
   "metadata": {},
   "outputs": [],
   "source": [
    "movie_dataset = sc.textFile('./datasets/ml-100k/u.data')"
   ]
  },
  {
   "cell_type": "code",
   "execution_count": 5,
   "metadata": {},
   "outputs": [],
   "source": [
    "# split the lines and extract the required fields, userid, movie id and ratings\n",
    "def extractFOI(line): #fields of interest\n",
    "    fields  = line.split();\n",
    "    user_id = int(fields[0])\n",
    "    movie_id = int(fields[1])\n",
    "    ratings = int(fields[2])\n",
    "    return (user_id,(movie_id,ratings))\n"
   ]
  },
  {
   "cell_type": "code",
   "execution_count": 6,
   "metadata": {},
   "outputs": [
    {
     "data": {
      "text/plain": [
       "[(109, (178, 3)),\n",
       " (200, (227, 5)),\n",
       " (235, (52, 4)),\n",
       " (222, (288, 4)),\n",
       " (458, (496, 3)),\n",
       " (121, (250, 2)),\n",
       " (393, (64, 4)),\n",
       " (378, (203, 4)),\n",
       " (561, (1119, 3)),\n",
       " (246, (11, 4)),\n",
       " (178, (283, 5)),\n",
       " (730, (340, 3))]"
      ]
     },
     "execution_count": 6,
     "metadata": {},
     "output_type": "execute_result"
    }
   ],
   "source": [
    "movie_ratings_ds = movie_dataset.map(extractFOI) # (109, (178, 3)\n",
    "#movie_ratings_ds.sample(\"False\",0.0001).collect()"
   ]
  },
  {
   "cell_type": "code",
   "execution_count": 10,
   "metadata": {},
   "outputs": [],
   "source": [
    "# find every movie rated by the user, this can be obtained by self join\n",
    "# self join gives all possible combinations in the dataset\n",
    "user_movies = movie_ratings_ds.join(movie_ratings_ds,2) \n",
    "# [(196, ((202, 3), (287, 3))),\n",
    "# (196, ((269, 3), (287, 3)))]\n",
    "#this is a very expensive operation so avoid it\n",
    "#user_movies.sample(\"False\",0.0001).collect()"
   ]
  },
  {
   "cell_type": "code",
   "execution_count": null,
   "metadata": {},
   "outputs": [],
   "source": [
    "# user id is just to get the above movie combination, \n",
    "# we can ignore user_id movie id and ratings are of importance now\n",
    "\n"
   ]
  }
 ],
 "metadata": {
  "kernelspec": {
   "display_name": "Python 3",
   "language": "python",
   "name": "python3"
  },
  "language_info": {
   "codemirror_mode": {
    "name": "ipython",
    "version": 3
   },
   "file_extension": ".py",
   "mimetype": "text/x-python",
   "name": "python",
   "nbconvert_exporter": "python",
   "pygments_lexer": "ipython3",
   "version": "3.6.4"
  }
 },
 "nbformat": 4,
 "nbformat_minor": 2
}
