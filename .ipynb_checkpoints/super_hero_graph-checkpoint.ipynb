{
 "cells": [
  {
   "cell_type": "code",
   "execution_count": 5,
   "metadata": {},
   "outputs": [],
   "source": [
    "from pyspark import SparkConf, SparkContext"
   ]
  },
  {
   "cell_type": "code",
   "execution_count": 6,
   "metadata": {},
   "outputs": [],
   "source": [
    "conf = SparkConf().setMaster('local').setAppName(\"Super hero graph\")"
   ]
  },
  {
   "cell_type": "code",
   "execution_count": 9,
   "metadata": {},
   "outputs": [
    {
     "data": {
      "text/html": [
       "\n",
       "        <div>\n",
       "            <p><b>SparkContext</b></p>\n",
       "\n",
       "            <p><a href=\"http://192.168.0.103:4040\">Spark UI</a></p>\n",
       "\n",
       "            <dl>\n",
       "              <dt>Version</dt>\n",
       "                <dd><code>v2.3.0</code></dd>\n",
       "              <dt>Master</dt>\n",
       "                <dd><code>local[*]</code></dd>\n",
       "              <dt>AppName</dt>\n",
       "                <dd><code>Super hero graph</code></dd>\n",
       "            </dl>\n",
       "        </div>\n",
       "        "
      ],
      "text/plain": [
       "<SparkContext master=local[*] appName=Super hero graph>"
      ]
     },
     "execution_count": 9,
     "metadata": {},
     "output_type": "execute_result"
    }
   ],
   "source": [
    "# uncomment it when run as script\n",
    "# sc = SparkContext(conf=conf)\n",
    "\n",
    "sc = SparkContext.getOrCreate()\n",
    "sc.appName=\"Super hero graph\"\n",
    "sc"
   ]
  },
  {
   "cell_type": "code",
   "execution_count": 23,
   "metadata": {},
   "outputs": [],
   "source": [
    "def parseNames(line):\n",
    "    #1 \"24-HOUR MAN/EMMANUEL\"\n",
    "    fields = line.split('\\\"')\n",
    "    return (int(fields[0]) , fields[1].encode('utf8'))\n",
    "\n",
    "def getCoOccurances(line):\n",
    "    \"\"\"\n",
    "    return number of times a particular hero has appeared with other heroes\n",
    "    \"\"\"\n",
    "    fields = line.split()\n",
    "    # hero id and number of times he has appaered with various other heroes\n",
    "    # -1 is to exclude the 1st field\n",
    "    return (int(fields[0]) , len(fields) - 1) \n",
    "\n",
    "    "
   ]
  },
  {
   "cell_type": "code",
   "execution_count": 24,
   "metadata": {},
   "outputs": [],
   "source": [
    "super_heroes = sc.textFile('./datasets/Marvel-Names.txt') "
   ]
  },
  {
   "cell_type": "code",
   "execution_count": 25,
   "metadata": {},
   "outputs": [],
   "source": [
    "super_hero_names = super_heroes.map(parseNames)"
   ]
  },
  {
   "cell_type": "code",
   "execution_count": 26,
   "metadata": {},
   "outputs": [],
   "source": [
    "super_hero_graph = sc.textFile(\"./datasets/Marvel-Graph.txt\")"
   ]
  },
  {
   "cell_type": "code",
   "execution_count": 27,
   "metadata": {},
   "outputs": [],
   "source": [
    "super_hero_coOccurance = super_hero_graph.map(getCoOccurances)"
   ]
  },
  {
   "cell_type": "code",
   "execution_count": 28,
   "metadata": {},
   "outputs": [],
   "source": [
    "super_hero_total_apperances = super_hero_coOccurance.reduceByKey(lambda x,y : x+y)"
   ]
  },
  {
   "cell_type": "code",
   "execution_count": 39,
   "metadata": {},
   "outputs": [],
   "source": [
    "super_heroes_sorted = super_hero_total_apperances.sortBy(lambda x : x[1], ascending=False)\n",
    "# max operations is performed on keys to flipping the rdd \n",
    "super_heroes_sorted_flipped  = super_heroes_sorted.map(lambda x :  x[::-1])\n",
    "coApperance , popular_super_hero_id = super_heroes_sorted_flipped.max()"
   ]
  },
  {
   "cell_type": "code",
   "execution_count": 46,
   "metadata": {},
   "outputs": [
    {
     "data": {
      "text/plain": [
       "'CAPTAIN AMERICA'"
      ]
     },
     "execution_count": 46,
     "metadata": {},
     "output_type": "execute_result"
    }
   ],
   "source": [
    "popular_super_hero_name = super_hero_names.lookup(popular_super_hero_id)[0].decode()\n",
    "popular_super_hero_name"
   ]
  },
  {
   "cell_type": "code",
   "execution_count": 48,
   "metadata": {},
   "outputs": [
    {
     "name": "stdout",
     "output_type": "stream",
     "text": [
      "CAPTAIN AMERICA is the most popular with 1933 apperances with co stars\n"
     ]
    }
   ],
   "source": [
    "print(\"%s is the most popular with %d apperances with co stars\" % (popular_super_hero_name,coApperance))"
   ]
  },
  {
   "cell_type": "code",
   "execution_count": null,
   "metadata": {},
   "outputs": [],
   "source": []
  }
 ],
 "metadata": {
  "kernelspec": {
   "display_name": "Python 3",
   "language": "python",
   "name": "python3"
  },
  "language_info": {
   "codemirror_mode": {
    "name": "ipython",
    "version": 3
   },
   "file_extension": ".py",
   "mimetype": "text/x-python",
   "name": "python",
   "nbconvert_exporter": "python",
   "pygments_lexer": "ipython3",
   "version": "3.6.4"
  }
 },
 "nbformat": 4,
 "nbformat_minor": 2
}
