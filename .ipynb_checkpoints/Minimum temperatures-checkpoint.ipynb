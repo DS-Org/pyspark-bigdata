{
 "cells": [
  {
   "cell_type": "markdown",
   "metadata": {},
   "source": [
    "### Find the minimum temp observed at each station in the year 1800  \n",
    "\n",
    "#### Sample data from dataset\n",
    "|station id | date|  label| temp in 1/10 |\n",
    "|---|---|---|---|---|---|---|\n",
    "|ITE00100554|18000116|TMIN|41|\n",
    "    \n",
    "``` [ 'ITE00100554,18000116,TMIN,41,,,E,',\n",
    " 'ITE00100554,18000124,TMAX,85,,,E,',\n",
    " 'ITE00100554,18000213,TMAX,13,,,E,',\n",
    " 'EZE00100082,18000305,TMIN,-47,,,E,',\n",
    " 'GM000010962,18000321,PRCP,6,,,E,',\n",
    " 'GM000010962,18000419,PRCP,5,,,E,',\n",
    " 'EZE00100082,18000804,TMAX,316,,,E,'] ```"
   ]
  },
  {
   "cell_type": "code",
   "execution_count": 1,
   "metadata": {},
   "outputs": [],
   "source": [
    "from pyspark import SparkContext, SparkConf"
   ]
  },
  {
   "cell_type": "code",
   "execution_count": 6,
   "metadata": {},
   "outputs": [
    {
     "data": {
      "text/html": [
       "\n",
       "        <div>\n",
       "            <p><b>SparkContext</b></p>\n",
       "\n",
       "            <p><a href=\"http://192.168.0.103:4041\">Spark UI</a></p>\n",
       "\n",
       "            <dl>\n",
       "              <dt>Version</dt>\n",
       "                <dd><code>v2.3.0</code></dd>\n",
       "              <dt>Master</dt>\n",
       "                <dd><code>local[*]</code></dd>\n",
       "              <dt>AppName</dt>\n",
       "                <dd><code>Minimum temp</code></dd>\n",
       "            </dl>\n",
       "        </div>\n",
       "        "
      ],
      "text/plain": [
       "<SparkContext master=local[*] appName=Minimum temp>"
      ]
     },
     "execution_count": 6,
     "metadata": {},
     "output_type": "execute_result"
    }
   ],
   "source": [
    "# use this in case of standalone scritps\n",
    "#conf = SparkConf().setMaster('local').setAppName('Minimum temp')\n",
    "#sc= SparkContext(conf=conf).getOrCreate()\n",
    "\n",
    "# incase of pyspark jupyrter lab sc is already created so it errors if we try to create a new spark context\n",
    "sc= SparkContext.getOrCreate()\n",
    "sc.appName='Minimum temp'\n",
    "sc"
   ]
  },
  {
   "cell_type": "code",
   "execution_count": 7,
   "metadata": {},
   "outputs": [],
   "source": [
    "data = sc.textFile(\"./datasets/1800-temperatures.csv\")"
   ]
  },
  {
   "cell_type": "code",
   "execution_count": 20,
   "metadata": {},
   "outputs": [
    {
     "data": {
      "text/plain": [
       "['ITE00100554,18000116,TMIN,41,,,E,',\n",
       " 'ITE00100554,18000124,TMAX,85,,,E,',\n",
       " 'ITE00100554,18000213,TMAX,13,,,E,',\n",
       " 'EZE00100082,18000305,TMIN,-47,,,E,',\n",
       " 'GM000010962,18000321,PRCP,6,,,E,',\n",
       " 'GM000010962,18000419,PRCP,5,,,E,',\n",
       " 'EZE00100082,18000804,TMAX,316,,,E,']"
      ]
     },
     "execution_count": 20,
     "metadata": {},
     "output_type": "execute_result"
    }
   ],
   "source": [
    "# sample is a transformation and thus will load only a sample of dataset when we collect\n",
    "# for viewing purpose\n",
    "data.sample(False,0.001).collect()"
   ]
  },
  {
   "cell_type": "markdown",
   "metadata": {},
   "source": [
    "## Remove unwanted columns, \n",
    "## Columns of interest\n",
    "* Station id\n",
    "* label - TMAX or TMIN\n",
    "* Temp as a fraction of 1/10 - convert to fahrenheit\n",
    "\n",
    "  \\begin{align}\\mbox{1F } = (9/5)+32C \\end{align}"
   ]
  },
  {
   "cell_type": "code",
   "execution_count": 46,
   "metadata": {},
   "outputs": [],
   "source": [
    "def collectDOI(line): # collect data of interest\n",
    "    data = line.split(\",\")\n",
    "    station_id = data[0]\n",
    "    label = data[2]\n",
    "    temp = float(data[3]) * 0.1 * (9.0/5.0) + 32\n",
    "    return (station_id, label, temp)\n"
   ]
  },
  {
   "cell_type": "code",
   "execution_count": 47,
   "metadata": {},
   "outputs": [],
   "source": [
    "tempBySId = data.map(collectDOI)\n",
    "# (ITE00100554,TMIN, 41)"
   ]
  },
  {
   "cell_type": "markdown",
   "metadata": {},
   "source": [
    "--------------------------- --------------------"
   ]
  },
  {
   "cell_type": "markdown",
   "metadata": {},
   "source": [
    "### MIN TEMP "
   ]
  },
  {
   "cell_type": "code",
   "execution_count": 33,
   "metadata": {},
   "outputs": [],
   "source": [
    "# filter all TMIN - as per requirment\n",
    "# (ITE00100554,TMIN, 41)\n",
    "temp_min =  tempBySId.filter(lambda x : 'TMIN' in x[1])\n",
    "# lets get rid of TMIN which is no longer needed \n",
    "stationTemps = temp_min.map(lambda x : (x[0],x[2]))\n",
    "# (ITE00100554, 41)\n",
    "# min temps for each station\n",
    "minTemps = stationTemps.reduceByKey(lambda x,y : min(x,y))\n",
    "results = minTemps.collect()"
   ]
  },
  {
   "cell_type": "code",
   "execution_count": 35,
   "metadata": {},
   "outputs": [
    {
     "name": "stdout",
     "output_type": "stream",
     "text": [
      "ITE00100554  \t5.36F\n",
      "EZE00100082  \t7.70F\n"
     ]
    }
   ],
   "source": [
    "for result in results:\n",
    "    print(\"%s  \\t%.2fF\" % (result))"
   ]
  },
  {
   "cell_type": "markdown",
   "metadata": {},
   "source": [
    "----------------------------------"
   ]
  },
  {
   "cell_type": "markdown",
   "metadata": {},
   "source": [
    "### Find the maximum temp observed at each station in the year 1800  \n",
    "\n",
    "#### Sample data from dataset\n",
    "|station id | date|  label| temp in 1/10 |\n",
    "|---|---|---|---|---|---|---|\n",
    "|ITE00100554|18000116|TMIN|41|\n",
    "    \n",
    "``` [ 'ITE00100554,18000116,TMIN,41,,,E,',\n",
    " 'ITE00100554,18000124,TMAX,85,,,E,',\n",
    " 'ITE00100554,18000213,TMAX,13,,,E,',\n",
    " 'EZE00100082,18000305,TMIN,-47,,,E,',\n",
    " 'GM000010962,18000321,PRCP,6,,,E,',\n",
    " 'GM000010962,18000419,PRCP,5,,,E,',\n",
    " 'EZE00100082,18000804,TMAX,316,,,E,'] ```"
   ]
  },
  {
   "cell_type": "markdown",
   "metadata": {},
   "source": [
    "### MAX TEMP"
   ]
  },
  {
   "cell_type": "code",
   "execution_count": 52,
   "metadata": {},
   "outputs": [],
   "source": [
    "temp_max = tempBySId.filter(lambda x: 'TMAX' in x[1])\n",
    "#(ITE00100554,TMAX,85)"
   ]
  },
  {
   "cell_type": "code",
   "execution_count": 58,
   "metadata": {},
   "outputs": [],
   "source": [
    "# GET RID OF UNWANTED TMAX LABEL\n",
    "stationTemps = temp_max.map(lambda x : (x[0],x[2]))\n",
    "#(ITE00100554,85)"
   ]
  },
  {
   "cell_type": "code",
   "execution_count": 59,
   "metadata": {},
   "outputs": [],
   "source": [
    "#reduce by key and find max temp\n",
    "maxTemps = stationTemps.reduceByKey(lambda temp_a,temp_b :  max(temp_a,temp_b))"
   ]
  },
  {
   "cell_type": "code",
   "execution_count": 60,
   "metadata": {},
   "outputs": [],
   "source": [
    "results = maxTemps.collect()"
   ]
  },
  {
   "cell_type": "code",
   "execution_count": 62,
   "metadata": {},
   "outputs": [
    {
     "name": "stdout",
     "output_type": "stream",
     "text": [
      "ITE00100554 \t 90.14F\n",
      "EZE00100082 \t 90.14F\n"
     ]
    }
   ],
   "source": [
    "for result in results:\n",
    "    print(\"%s \\t %.2fF\" % result)"
   ]
  },
  {
   "cell_type": "markdown",
   "metadata": {},
   "source": [
    "-----------"
   ]
  },
  {
   "cell_type": "code",
   "execution_count": null,
   "metadata": {},
   "outputs": [],
   "source": []
  }
 ],
 "metadata": {
  "kernelspec": {
   "display_name": "Python 3",
   "language": "python",
   "name": "python3"
  },
  "language_info": {
   "codemirror_mode": {
    "name": "ipython",
    "version": 3
   },
   "file_extension": ".py",
   "mimetype": "text/x-python",
   "name": "python",
   "nbconvert_exporter": "python",
   "pygments_lexer": "ipython3",
   "version": "3.6.4"
  }
 },
 "nbformat": 4,
 "nbformat_minor": 2
}
