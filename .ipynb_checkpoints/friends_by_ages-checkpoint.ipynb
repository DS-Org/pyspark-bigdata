{
 "cells": [
  {
   "cell_type": "code",
   "execution_count": 71,
   "metadata": {},
   "outputs": [],
   "source": [
    "from pyspark import SparkConf, SparkContext\n",
    "import collections"
   ]
  },
  {
   "cell_type": "code",
   "execution_count": 72,
   "metadata": {},
   "outputs": [
    {
     "data": {
      "text/plain": [
       "['0,Will,33,385',\n",
       " '14,Hugh,43,49',\n",
       " '24,Julian,25,1',\n",
       " '35,Beverly,27,305',\n",
       " '58,Hugh,59,158',\n",
       " '74,Leeta,65,208',\n",
       " '98,Will,44,178',\n",
       " '104,Dukat,32,142',\n",
       " '116,Ben,69,75',\n",
       " '126,Brunt,26,84',\n",
       " '127,Miles,40,284',\n",
       " '128,Julian,34,221',\n",
       " '159,Kasidy,67,438',\n",
       " '165,Leeta,26,282',\n",
       " '172,Kasidy,55,204',\n",
       " '185,Weyoun,48,287',\n",
       " '193,Nerys,60,125',\n",
       " '216,Brunt,34,116',\n",
       " '234,Deanna,49,22',\n",
       " '253,Leeta,69,116',\n",
       " '255,Deanna,60,324',\n",
       " '256,Worf,32,412',\n",
       " '257,Data,51,161',\n",
       " '259,Kasidy,29,11',\n",
       " '261,Jadzia,40,172',\n",
       " '270,Data,44,353',\n",
       " '276,Dukat,54,462',\n",
       " '278,Data,44,499',\n",
       " '286,Lwaxana,30,384',\n",
       " '297,Ben,45,395',\n",
       " '303,Deanna,46,319',\n",
       " '306,Beverly,23,323',\n",
       " '311,Martok,43,48',\n",
       " '318,Deanna,35,251',\n",
       " '320,Worf,62,450',\n",
       " '338,Will,28,180',\n",
       " '341,Data,18,326',\n",
       " '346,Hugh,29,329',\n",
       " '386,Data,35,428',\n",
       " '404,Kasidy,18,24',\n",
       " '410,Odo,35,299',\n",
       " '417,Julian,37,106',\n",
       " '424,Keiko,55,470',\n",
       " '430,Geordi,36,493',\n",
       " '431,Quark,36,343',\n",
       " '432,Brunt,45,54',\n",
       " '439,Data,18,417',\n",
       " '444,Keiko,18,472',\n",
       " '447,Julian,38,34',\n",
       " '487,Brunt,69,431']"
      ]
     },
     "execution_count": 72,
     "metadata": {},
     "output_type": "execute_result"
    }
   ],
   "source": [
    "lines = sc.textFile('./datasets/fakefriends.csv')\n",
    "#never perform actions, this is just for understanding \n",
    "lines.sample(withReplacement=False,fraction=0.10).collect()\n"
   ]
  },
  {
   "cell_type": "code",
   "execution_count": 73,
   "metadata": {},
   "outputs": [],
   "source": [
    "def parseLine(line):\n",
    "    fields = line.split(',')\n",
    "    age = int(fields[2]);\n",
    "    numberOfFriends = int(fields[3])\n",
    "    return (age,numberOfFriends)\n"
   ]
  },
  {
   "cell_type": "code",
   "execution_count": 74,
   "metadata": {},
   "outputs": [
    {
     "data": {
      "text/plain": [
       "[(56, 444),\n",
       " (30, 72),\n",
       " (58, 345),\n",
       " (20, 1),\n",
       " (44, 194),\n",
       " (33, 74),\n",
       " (40, 407),\n",
       " (61, 337),\n",
       " (32, 308),\n",
       " (55, 257),\n",
       " (61, 460),\n",
       " (25, 274),\n",
       " (33, 275),\n",
       " (29, 344),\n",
       " (68, 264),\n",
       " (45, 400),\n",
       " (45, 252),\n",
       " (42, 427),\n",
       " (19, 335),\n",
       " (55, 313),\n",
       " (59, 14),\n",
       " (47, 87),\n",
       " (38, 459),\n",
       " (54, 369),\n",
       " (38, 173),\n",
       " (48, 381),\n",
       " (23, 174),\n",
       " (37, 271),\n",
       " (27, 174),\n",
       " (33, 245),\n",
       " (27, 150),\n",
       " (68, 481),\n",
       " (21, 471),\n",
       " (32, 412),\n",
       " (49, 106),\n",
       " (26, 298),\n",
       " (63, 380),\n",
       " (40, 56),\n",
       " (46, 319),\n",
       " (62, 450),\n",
       " (29, 236),\n",
       " (29, 329),\n",
       " (67, 149),\n",
       " (54, 442),\n",
       " (64, 343),\n",
       " (23, 230),\n",
       " (56, 371),\n",
       " (36, 68),\n",
       " (53, 451),\n",
       " (44, 388),\n",
       " (24, 77),\n",
       " (64, 175),\n",
       " (52, 419),\n",
       " (37, 234),\n",
       " (42, 194),\n",
       " (27, 154),\n",
       " (18, 194)]"
      ]
     },
     "execution_count": 74,
     "metadata": {},
     "output_type": "execute_result"
    }
   ],
   "source": [
    "data=lines.map(parseLine)\n",
    "#never perform actions, this is just for understanding \n",
    "data.sample(withReplacement=False,fraction=0.10).collect()"
   ]
  },
  {
   "cell_type": "code",
   "execution_count": 75,
   "metadata": {},
   "outputs": [
    {
     "data": {
      "text/plain": [
       "[(54, (307, 1)),\n",
       " (21, (445, 1)),\n",
       " (48, (364, 1)),\n",
       " (43, (249, 1)),\n",
       " (54, (75, 1)),\n",
       " (25, (96, 1)),\n",
       " (62, (31, 1)),\n",
       " (41, (278, 1)),\n",
       " (67, (445, 1)),\n",
       " (46, (88, 1)),\n",
       " (67, (123, 1)),\n",
       " (50, (417, 1)),\n",
       " (64, (419, 1)),\n",
       " (33, (275, 1)),\n",
       " (35, (355, 1)),\n",
       " (32, (384, 1)),\n",
       " (61, (373, 1)),\n",
       " (49, (340, 1)),\n",
       " (44, (360, 1)),\n",
       " (31, (340, 1)),\n",
       " (26, (282, 1)),\n",
       " (63, (469, 1)),\n",
       " (40, (406, 1)),\n",
       " (19, (106, 1)),\n",
       " (66, (496, 1)),\n",
       " (46, (319, 1)),\n",
       " (19, (404, 1)),\n",
       " (41, (340, 1)),\n",
       " (46, (407, 1)),\n",
       " (41, (397, 1)),\n",
       " (26, (383, 1)),\n",
       " (22, (266, 1)),\n",
       " (36, (493, 1)),\n",
       " (57, (229, 1)),\n",
       " (48, (439, 1)),\n",
       " (33, (228, 1)),\n",
       " (62, (12, 1))]"
      ]
     },
     "execution_count": 75,
     "metadata": {},
     "output_type": "execute_result"
    }
   ],
   "source": [
    "data.mapValues(lambda x : (x,1)).sample(withReplacement=False,fraction=0.10).collect()"
   ]
  },
  {
   "cell_type": "code",
   "execution_count": 76,
   "metadata": {},
   "outputs": [
    {
     "data": {
      "text/plain": [
       "[(53, (1560, 7)), (41, (2417, 9)), (63, (1536, 4)), (23, (2463, 10))]"
      ]
     },
     "execution_count": 76,
     "metadata": {},
     "output_type": "execute_result"
    }
   ],
   "source": [
    "# now lets add the age and their respective occurences -\n",
    "#we need occurances as we need to calculate the avg number of friends for a specific age\n",
    "\n",
    "totalsbyAge = data.mapValues(lambda x : (x,1)).reduceByKey(lambda x,y : (x[0]+y[0] , x[1]+y[1])) \n",
    "#never perform actions, this is just for understanding \n",
    "totalsbyAge.sample(False,0.10).collect()"
   ]
  },
  {
   "cell_type": "code",
   "execution_count": 77,
   "metadata": {},
   "outputs": [],
   "source": [
    "# average = total/number of occurance\n",
    "# mapValues will receive (1273,5) rather than (50, (1273, 5))\n",
    "avgesByage= totalsbyAge.mapValues(lambda x: x[0]/x[1])"
   ]
  },
  {
   "cell_type": "code",
   "execution_count": 78,
   "metadata": {},
   "outputs": [
    {
     "data": {
      "text/plain": [
       "[(26, 242.05882352941177),\n",
       " (56, 306.6666666666667),\n",
       " (62, 220.76923076923077),\n",
       " (33, 325.3333333333333),\n",
       " (29, 215.91666666666666)]"
      ]
     },
     "execution_count": 78,
     "metadata": {},
     "output_type": "execute_result"
    }
   ],
   "source": [
    "#never perform actions, this is just for understanding \n",
    "avgesByage.sample(False,0.10).collect()"
   ]
  },
  {
   "cell_type": "code",
   "execution_count": 81,
   "metadata": {},
   "outputs": [
    {
     "data": {
      "text/plain": [
       "52"
      ]
     },
     "execution_count": 81,
     "metadata": {},
     "output_type": "execute_result"
    }
   ],
   "source": [
    "results= avgesByage.collect()\n",
    "len(results)"
   ]
  },
  {
   "cell_type": "code",
   "execution_count": 80,
   "metadata": {},
   "outputs": [
    {
     "name": "stdout",
     "output_type": "stream",
     "text": [
      "18 -- 343.375\n",
      "19 -- 213.27272727272728\n",
      "20 -- 165.0\n",
      "21 -- 350.875\n",
      "22 -- 206.42857142857142\n",
      "23 -- 246.3\n",
      "24 -- 233.8\n",
      "25 -- 197.45454545454547\n",
      "26 -- 242.05882352941177\n",
      "27 -- 228.125\n",
      "28 -- 209.1\n",
      "29 -- 215.91666666666666\n",
      "30 -- 235.8181818181818\n",
      "31 -- 267.25\n",
      "32 -- 207.9090909090909\n",
      "33 -- 325.3333333333333\n",
      "34 -- 245.5\n",
      "35 -- 211.625\n",
      "36 -- 246.6\n",
      "37 -- 249.33333333333334\n",
      "38 -- 193.53333333333333\n",
      "39 -- 169.28571428571428\n",
      "40 -- 250.8235294117647\n",
      "41 -- 268.55555555555554\n",
      "42 -- 303.5\n",
      "43 -- 230.57142857142858\n",
      "44 -- 282.1666666666667\n",
      "45 -- 309.53846153846155\n",
      "46 -- 223.69230769230768\n",
      "47 -- 233.22222222222223\n",
      "48 -- 281.4\n",
      "49 -- 184.66666666666666\n",
      "50 -- 254.6\n",
      "51 -- 302.14285714285717\n",
      "52 -- 340.6363636363636\n",
      "53 -- 222.85714285714286\n",
      "54 -- 278.0769230769231\n",
      "55 -- 295.53846153846155\n",
      "56 -- 306.6666666666667\n",
      "57 -- 258.8333333333333\n",
      "58 -- 116.54545454545455\n",
      "59 -- 220.0\n",
      "60 -- 202.71428571428572\n",
      "61 -- 256.22222222222223\n",
      "62 -- 220.76923076923077\n",
      "63 -- 384.0\n",
      "64 -- 281.3333333333333\n",
      "65 -- 298.2\n",
      "66 -- 276.44444444444446\n",
      "67 -- 214.625\n",
      "68 -- 269.6\n",
      "69 -- 235.2\n"
     ]
    }
   ],
   "source": [
    "sortedByAge=collections.OrderedDict(sorted(avgesByage.collect()))\n",
    "for age,avgFriends in sortedByAge.items():\n",
    "    print(\"%s -- %s\" % (age,avgFriends))"
   ]
  },
  {
   "cell_type": "code",
   "execution_count": null,
   "metadata": {},
   "outputs": [],
   "source": []
  }
 ],
 "metadata": {
  "kernelspec": {
   "display_name": "Python 3",
   "language": "python",
   "name": "python3"
  },
  "language_info": {
   "codemirror_mode": {
    "name": "ipython",
    "version": 3
   },
   "file_extension": ".py",
   "mimetype": "text/x-python",
   "name": "python",
   "nbconvert_exporter": "python",
   "pygments_lexer": "ipython3",
   "version": "3.6.4"
  }
 },
 "nbformat": 4,
 "nbformat_minor": 2
}
